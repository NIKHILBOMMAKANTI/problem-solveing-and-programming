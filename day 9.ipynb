{
 "cells": [
  {
   "cell_type": "code",
   "execution_count": 41,
   "metadata": {},
   "outputs": [
    {
     "name": "stdout",
     "output_type": "stream",
     "text": [
      "NIKHIL BOMMAKANTI\n"
     ]
    }
   ],
   "source": [
    "str =s=\"nikhil bommakanti\"\n",
    "print(str.upper())"
   ]
  },
  {
   "cell_type": "code",
   "execution_count": 3,
   "metadata": {},
   "outputs": [
    {
     "name": "stdout",
     "output_type": "stream",
     "text": [
      "nikhil bommakanti\n"
     ]
    }
   ],
   "source": [
    "str =\"NIKHIL BOMMAKANTI\"\n",
    "print(str.lower())"
   ]
  },
  {
   "cell_type": "code",
   "execution_count": 8,
   "metadata": {},
   "outputs": [
    {
     "name": "stdout",
     "output_type": "stream",
     "text": [
      "False\n",
      "True\n"
     ]
    }
   ],
   "source": [
    "s=\"NIKHIL BOMMAKANTI\"\n",
    "s1=\"nikhi bommakanti\"\n",
    "print(s.islower())\n",
    "print(s1.islower())"
   ]
  },
  {
   "cell_type": "code",
   "execution_count": 9,
   "metadata": {},
   "outputs": [
    {
     "name": "stdout",
     "output_type": "stream",
     "text": [
      "True\n",
      "False\n"
     ]
    }
   ],
   "source": [
    "s=\"NIKHIL BOMMAKANTI\"\n",
    "s1=\"nikhi bommakanti\"\n",
    "print(s.isupper())\n",
    "print(s1.isupper())"
   ]
  },
  {
   "cell_type": "code",
   "execution_count": 14,
   "metadata": {},
   "outputs": [
    {
     "name": "stdout",
     "output_type": "stream",
     "text": [
      "True\n",
      "False\n"
     ]
    }
   ],
   "source": [
    "s=\"221810306039\"\n",
    "s1=\"nikhil bommakanti\"\n",
    "print(s.isnumeric())\n",
    "print(s1.isnumeric())"
   ]
  },
  {
   "cell_type": "code",
   "execution_count": 22,
   "metadata": {},
   "outputs": [
    {
     "name": "stdout",
     "output_type": "stream",
     "text": [
      "False\n",
      "True\n"
     ]
    }
   ],
   "source": [
    "s=\"221810306039\"\n",
    "s1=\"nikhilbommakanti\"\n",
    "print(s.isalpha())\n",
    "print(s1.isalpha()) "
   ]
  },
  {
   "cell_type": "code",
   "execution_count": 46,
   "metadata": {},
   "outputs": [
    {
     "name": "stdout",
     "output_type": "stream",
     "text": [
      "nikhil,akash,kanishk,netflix\n"
     ]
    }
   ],
   "source": [
    "    print(\"nikhil,akash,kanishk,netflix\")"
   ]
  },
  {
   "cell_type": "code",
   "execution_count": 32,
   "metadata": {},
   "outputs": [
    {
     "name": "stdout",
     "output_type": "stream",
     "text": [
      "False\n",
      "True\n"
     ]
    }
   ],
   "source": [
    "s=\"NIKHIL BOMMAKANTI\"\n",
    "s1=\"    \"\n",
    "print(s.isspace())\n",
    "print(s1.isspace())"
   ]
  },
  {
   "cell_type": "code",
   "execution_count": 33,
   "metadata": {},
   "outputs": [
    {
     "name": "stdout",
     "output_type": "stream",
     "text": [
      "['python', 'programming', 'is', 'easy', 'to', 'learn']\n",
      "['python progr', 'mming is e', 'sy to le', 'rn ']\n",
      "['python programming is easy to learn ']\n"
     ]
    }
   ],
   "source": [
    "s=\"python programming is easy to learn \"\n",
    "print(s.split())\n",
    "print(s.split(\"a\"))\n",
    "print(s.split(\",\"))"
   ]
  },
  {
   "cell_type": "code",
   "execution_count": 37,
   "metadata": {},
   "outputs": [
    {
     "name": "stdout",
     "output_type": "stream",
     "text": [
      "['p', 'y', 't', 'h', 'o', 'n']\n"
     ]
    }
   ],
   "source": [
    "s=\"python\"\n",
    "lst=list(s)\n",
    "print(lst)"
   ]
  },
  {
   "cell_type": "code",
   "execution_count": 43,
   "metadata": {},
   "outputs": [
    {
     "name": "stdout",
     "output_type": "stream",
     "text": [
      "python programming\n"
     ]
    }
   ],
   "source": [
    "s=\"python programming\"\n",
    "print(s)"
   ]
  },
  {
   "cell_type": "code",
   "execution_count": 44,
   "metadata": {},
   "outputs": [
    {
     "name": "stdout",
     "output_type": "stream",
     "text": [
      "t1[0]= python\n",
      "t1[-1] A1\n",
      "t1[1:3] ('programming', 1989)\n"
     ]
    }
   ],
   "source": [
    "t1=(\"python\",\"programming\",1989,2019,\"machine learning\",\"A1\")\n",
    "print(\"t1[0]=\",t1[0])\n",
    "print(\"t1[-1]\",t1[-1])\n",
    "print(\"t1[1:3]\",t1[1:3])\n"
   ]
  },
  {
   "cell_type": "code",
   "execution_count": 45,
   "metadata": {},
   "outputs": [
    {
     "name": "stdout",
     "output_type": "stream",
     "text": [
      "('python', 'programming', 1989, 2019, 'machine learning', 'A1')\n",
      "(1, 2, 3, 4, 5)\n"
     ]
    }
   ],
   "source": [
    "t1=(\"python\",\"programming\",1989,2019,\"machine learning\",\"A1\")\n",
    "t2=1,2,3,4,5\n",
    "print(t1)\n",
    "print(t2)\n"
   ]
  },
  {
   "cell_type": "code",
   "execution_count": 58,
   "metadata": {},
   "outputs": [
    {
     "name": "stdout",
     "output_type": "stream",
     "text": [
      "name: nikhil\n",
      "age: 18\n",
      "email id: nikhilbommakanti2001@gmail.com\n",
      "mobile number: 8919249958\n",
      "address: H.NO:9-1-46/a/1,social welfare colony,hyderabad,near water works departmwnt\n"
     ]
    }
   ],
   "source": [
    "t1=(\"nikhil\",\"18\",\"nikhilbommakanti2001@gmail.com\",\"8919249958\",\"H.NO:9-1-46/a/1,social welfare colony,hyderabad,near water works departmwnt\")\n",
    "print(\"name:\",t1[0])\n",
    "print(\"age:\",t1[1])\n",
    "print(\"email id:\",t1[2])\n",
    "print(\"mobile number:\",t1[3])\n",
    "print(\"address:\",t1[4])"
   ]
  },
  {
   "cell_type": "code",
   "execution_count": 72,
   "metadata": {},
   "outputs": [
    {
     "name": "stdout",
     "output_type": "stream",
     "text": [
      "{'name': 'nikhil', 'age': 18, 'email id': 'nikhilbommakanti2001@gmail.com', 'mobile number': 8919249958}\n",
      "<built-in method copy of dict object at 0x03F7B5D0>\n",
      "{'name': 'nikhil', 'age': 18, 'email id': 'nikhilbommakanti2001@gmail.com', 'mobile number': 8919249958, 'address': 'hyderabad'}\n",
      "<built-in method copy of dict object at 0x03F7B5D0>\n"
     ]
    }
   ],
   "source": [
    "t1={\"name\":\"nikhil\",\"age\":18,\"email id\":\"nikhilbommakanti2001@gmail.com\",\"mobile number\":8919249958}\n",
    "t2=t1.copy\n",
    "print(t1)\n",
    "print(t2)\n",
    "t1['address']=\"hyderabad\"\n",
    "print(t1)\n",
    "print(t2)"
   ]
  },
  {
   "cell_type": "code",
   "execution_count": 16,
   "metadata": {},
   "outputs": [
    {
     "name": "stdout",
     "output_type": "stream",
     "text": [
      "contact akash added\n",
      "contact netflix added\n",
      "contact kanni added\n",
      "contact nikhil added\n"
     ]
    }
   ],
   "source": [
    "contacts={}\n",
    "def addcontact(name,phone):\n",
    "    #verify that the contact doesnt already exist\n",
    "    if name not in contacts:\n",
    "        contacts[name]=phone\n",
    "        print(\"contact %s added\"%name)\n",
    "    return\n",
    "addcontact(\"akash\",1)\n",
    "addcontact(\"netflix\",100)\n",
    "addcontact(\"kanni\",0)\n",
    "addcontact(\"nikhil\",8919249958)"
   ]
  },
  {
   "cell_type": "code",
   "execution_count": 19,
   "metadata": {},
   "outputs": [
    {
     "name": "stdout",
     "output_type": "stream",
     "text": [
      "akash  :  1\n",
      "netflix  :  100\n",
      "kanni  :  0\n",
      "nikhil  :  8919249958\n"
     ]
    },
    {
     "data": {
      "text/plain": [
       "{'akash': 1, 'netflix': 100, 'kanni': 0, 'nikhil': 8919249958}"
      ]
     },
     "execution_count": 19,
     "metadata": {},
     "output_type": "execute_result"
    }
   ],
   "source": [
    "# search to a particular contact from contact list\n",
    "def searchcontact(name):\n",
    "        if name in contacts:\n",
    "            print(name,\" : \",contacts[name])\n",
    "        else:\n",
    "            print(\" %s does not exist\"%name)\n",
    "        return \n",
    "searchcontact(\"akash\")\n",
    "searchcontact(\"netflix\")\n",
    "searchcontact(\"kanni\") \n",
    "searchcontact(\"nikhil\")"
   ]
  },
  {
   "cell_type": "code",
   "execution_count": 20,
   "metadata": {},
   "outputs": [
    {
     "name": "stdout",
     "output_type": "stream",
     "text": [
      "2 Contacts added Succesfully\n"
     ]
    },
    {
     "data": {
      "text/plain": [
       "{'Dinesh': 8008001, 'Ajay': 910000}"
      ]
     },
     "execution_count": 20,
     "metadata": {},
     "output_type": "execute_result"
    }
   ],
   "source": [
    "def importcontacts(n):\n",
    "    n.update(n)\n",
    "    print(len(n.keys()),\"Contacts added Succesfully\")\n",
    "    return n\n",
    "n= {'Dinesh':8008001,'Ajay': 910000}\n",
    "importcontacts(n)"
   ]
  },
  {
   "cell_type": "code",
   "execution_count": 21,
   "metadata": {},
   "outputs": [
    {
     "name": "stdout",
     "output_type": "stream",
     "text": [
      "Dinesh is deleted in contacts\n",
      "Mann is not exists in contacts\n"
     ]
    },
    {
     "data": {
      "text/plain": [
       "{'Ajay': 910000}"
      ]
     },
     "execution_count": 21,
     "metadata": {},
     "output_type": "execute_result"
    }
   ],
   "source": [
    "## Delete contacts from list\n",
    "def deleteContact(name):\n",
    "    if name in n:\n",
    "        del n[name]\n",
    "        print(name,\"is deleted in contacts\")\n",
    "    else:\n",
    "        print(name,\"is not exists in contacts\")\n",
    "    return n\n",
    "deleteContact(\"Dinesh\")\n",
    "deleteContact(\"Mann\")"
   ]
  },
  {
   "cell_type": "code",
   "execution_count": 22,
   "metadata": {},
   "outputs": [
    {
     "name": "stdout",
     "output_type": "stream",
     "text": [
      "Mahesh  :not exists in contacts\n",
      "human  :not exists in contacts\n"
     ]
    },
    {
     "data": {
      "text/plain": [
       "{'Ajay': 910000}"
      ]
     },
     "execution_count": 22,
     "metadata": {},
     "output_type": "execute_result"
    }
   ],
   "source": [
    "##modify the Contacts\n",
    "def updaten(name,phone):\n",
    "    if name in n:\n",
    "        n[name]=phone\n",
    "        print(name,\" :Update with new phone number\")\n",
    "    else:\n",
    "        print(name,\" :not exists in contacts\")\n",
    "    return n\n",
    "updaten(\"Mahesh\",9100080002)\n",
    "updaten(\"human\",8008001)"
   ]
  },
  {
   "cell_type": "code",
   "execution_count": null,
   "metadata": {},
   "outputs": [],
   "source": [
    " "
   ]
  }
 ],
 "metadata": {
  "kernelspec": {
   "display_name": "Python 3",
   "language": "python",
   "name": "python3"
  },
  "language_info": {
   "codemirror_mode": {
    "name": "ipython",
    "version": 3
   },
   "file_extension": ".py",
   "mimetype": "text/x-python",
   "name": "python",
   "nbconvert_exporter": "python",
   "pygments_lexer": "ipython3",
   "version": "3.7.3"
  }
 },
 "nbformat": 4,
 "nbformat_minor": 2
}
