{
 "cells": [
  {
   "cell_type": "code",
   "execution_count": 3,
   "metadata": {},
   "outputs": [
    {
     "name": "stdout",
     "output_type": "stream",
     "text": [
      "element not found\n"
     ]
    }
   ],
   "source": [
    "def binarySearch(a,lIndex,rIndex,tarItem):\n",
    "    while(lIndex<=rIndex):\n",
    "        mIndex=lIndex+((rIndex-lIndex)//2)\n",
    "        if(a[mIndex]==tarItem):\n",
    "            return Index\n",
    "        elif(a[mIndex]>tarItem):\n",
    "            rIndex=lIndex-1;\n",
    "        else:\n",
    "            lIndex=mIndex+1;\n",
    "    return -1\n",
    "list1 =[1,4,9,15,25,45,57,88,98]\n",
    "res=binarySearch(list1,0,8,818)\n",
    "if(res!=-1):\n",
    "    print(\"item is found\")\n",
    "else:\n",
    "    print(\"element not found\")"
   ]
  },
  {
   "cell_type": "code",
   "execution_count": 14,
   "metadata": {},
   "outputs": [
    {
     "name": "stdout",
     "output_type": "stream",
     "text": [
      "1   2   3   4   6   9   "
     ]
    }
   ],
   "source": [
    "def bubblesort(a):\n",
    "    for i in range(len(a)-1):\n",
    "         for j in range(len(a)-1):\n",
    "                if a[j]>a[j+1]:\n",
    "                    a[j],a[j+1]=a[j+1],a[j]\n",
    "                    \n",
    "    for i in range(len(a)):\n",
    "         print(a[i],end=\"   \")\n",
    "                        \n",
    "lst1=[3,6,4,2,9,1]    \n",
    "bubblesort(lst1)"
   ]
  },
  {
   "cell_type": "code",
   "execution_count": 15,
   "metadata": {},
   "outputs": [
    {
     "name": "stdout",
     "output_type": "stream",
     "text": [
      "application\n",
      "str[0]= a\n",
      "str[1]= p\n",
      "str[-1]= n\n",
      "str[-3]= i\n",
      "str[1:5]= ppli\n",
      "str[:5]= appli\n",
      "str[5:-2]= cati\n",
      "str[:5]= appli\n",
      "str[::-1] noitacilppa\n"
     ]
    }
   ],
   "source": [
    "str = \"application\"\n",
    "print(str)\n",
    "print(\"str[0]=\",str[0])\n",
    "print(\"str[1]=\",str[1])\n",
    "print(\"str[-1]=\",str[-1])\n",
    "print(\"str[-3]=\",str[-3])\n",
    "print(\"str[1:5]=\",str[1:5])\n",
    "print(\"str[:5]=\",str[:5])\n",
    "print(\"str[5:-2]=\",str[5:-2])\n",
    "print(\"str[:5]=\",str[:5])\n",
    "print(\"str[::-1]\",str[::-1])\n",
    "\n",
    "\n"
   ]
  },
  {
   "cell_type": "code",
   "execution_count": 20,
   "metadata": {},
   "outputs": [
    {
     "name": "stdout",
     "output_type": "stream",
     "text": [
      "False\n",
      "True\n"
     ]
    }
   ],
   "source": [
    "def ispalindrome(s):\n",
    "    if s == s[:: -1]:\n",
    "        return True\n",
    "    else:\n",
    "        return False\n",
    "print(ispalindrome(\"nikhil\"))\n",
    "print(ispalindrome(\"racecar\"))"
   ]
  },
  {
   "cell_type": "code",
   "execution_count": 19,
   "metadata": {},
   "outputs": [
    {
     "name": "stdout",
     "output_type": "stream",
     "text": [
      "enter a Number10\n",
      "2\n"
     ]
    }
   ],
   "source": [
    "n=int(input(\"enter a Number\"))\n",
    "cnt=0;\n",
    "while(n!=0):\n",
    "    cnt=cnt+1;\n",
    "    n=n//10;\n",
    "print(cnt)"
   ]
  },
  {
   "cell_type": "code",
   "execution_count": 33,
   "metadata": {},
   "outputs": [
    {
     "name": "stdout",
     "output_type": "stream",
     "text": [
      "4\n"
     ]
    }
   ],
   "source": [
    "def countLowercase(str):\n",
    "    cnt=0;\n",
    "    lst=list(str)\n",
    "    for x in range(len(lst)):\n",
    "        if ord(lst[x])>=97 and ord(lst[x])<=122:\n",
    "            cnt=cnt+1;\n",
    "    return cnt;\n",
    "\n",
    "print(countLowercase(\"Akash\"))\n"
   ]
  },
  {
   "cell_type": "code",
   "execution_count": 39,
   "metadata": {},
   "outputs": [
    {
     "name": "stdout",
     "output_type": "stream",
     "text": [
      "5\n"
     ]
    }
   ],
   "source": [
    "def countuppercase(str):\n",
    "    cnt=0;\n",
    "    lst=list(str)\n",
    "    for x in range(len(lst)):\n",
    "        if ord(lst[x])>=65 and ord(lst[x])<=90:\n",
    "            cnt=cnt+1;\n",
    "    return cnt;\n",
    "\n",
    "print(countuppercase(\"AKASH\"))"
   ]
  },
  {
   "cell_type": "code",
   "execution_count": 43,
   "metadata": {},
   "outputs": [
    {
     "data": {
      "text/plain": [
       "7"
      ]
     },
     "execution_count": 43,
     "metadata": {},
     "output_type": "execute_result"
    }
   ],
   "source": [
    "def count(str):\n",
    "    list1=list(str)\n",
    "    return len(str)\n",
    "count(\"PRABHAS\")"
   ]
  },
  {
   "cell_type": "code",
   "execution_count": 44,
   "metadata": {},
   "outputs": [
    {
     "name": "stdout",
     "output_type": "stream",
     "text": [
      "16\n",
      "10\n"
     ]
    }
   ],
   "source": [
    "def sumOnlyEvenDigits(str):\n",
    "    sum=0\n",
    "    lst=list(str)\n",
    "    for x in range(len(lst)):\n",
    "      if ord(lst[x]) >= 48 and ord(lst[x]) <=57:\n",
    "          ac=ord(lst[x]) - 48\n",
    "          if(ac%2==0):\n",
    "               sum=sum+ac\n",
    "    return sum\n",
    "            \n",
    "print(sumOnlyEvenDigits(\"Application1889\"))\n",
    "print(sumOnlyEvenDigits(\"Tel574s69t\"))"
   ]
  },
  {
   "cell_type": "code",
   "execution_count": null,
   "metadata": {},
   "outputs": [],
   "source": []
  },
  {
   "cell_type": "code",
   "execution_count": null,
   "metadata": {},
   "outputs": [],
   "source": []
  }
 ],
 "metadata": {
  "kernelspec": {
   "display_name": "Python 3",
   "language": "python",
   "name": "python3"
  },
  "language_info": {
   "codemirror_mode": {
    "name": "ipython",
    "version": 3
   },
   "file_extension": ".py",
   "mimetype": "text/x-python",
   "name": "python",
   "nbconvert_exporter": "python",
   "pygments_lexer": "ipython3",
   "version": "3.7.3"
  }
 },
 "nbformat": 4,
 "nbformat_minor": 2
}
