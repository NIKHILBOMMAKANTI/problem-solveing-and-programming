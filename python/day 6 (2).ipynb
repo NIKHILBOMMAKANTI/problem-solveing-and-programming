{
 "cells": [
  {
   "cell_type": "markdown",
   "metadata": {},
   "source": [
    "# CONTROL STATEMENTS\n"
   ]
  },
  {
   "cell_type": "markdown",
   "metadata": {},
   "source": [
    "EXAMPLE 1"
   ]
  },
  {
   "cell_type": "code",
   "execution_count": 4,
   "metadata": {},
   "outputs": [
    {
     "name": "stdout",
     "output_type": "stream",
     "text": [
      "the number less than 15\n"
     ]
    }
   ],
   "source": [
    "x=10\n",
    "if(x<15):\n",
    "    print(\"the number less than 15\")"
   ]
  },
  {
   "cell_type": "markdown",
   "metadata": {},
   "source": [
    "EXAMPLE 2\n"
   ]
  },
  {
   "cell_type": "code",
   "execution_count": 8,
   "metadata": {},
   "outputs": [
    {
     "name": "stdout",
     "output_type": "stream",
     "text": [
      "HELLO\n"
     ]
    }
   ],
   "source": [
    "x=10\n",
    "if(x<15):\n",
    "    print(\"HELLO\")"
   ]
  },
  {
   "cell_type": "markdown",
   "metadata": {},
   "source": [
    "EXAMPLE 3"
   ]
  },
  {
   "cell_type": "markdown",
   "metadata": {},
   "source": []
  },
  {
   "cell_type": "code",
   "execution_count": 20,
   "metadata": {},
   "outputs": [
    {
     "name": "stdout",
     "output_type": "stream",
     "text": [
      "Good morning MAM\n"
     ]
    }
   ],
   "source": [
    "x=20\n",
    "if(x>15):\n",
    "    print(\"Good morning MAM\")\n",
    "else:\n",
    "    print(\"Good afternoon MAM\")"
   ]
  },
  {
   "cell_type": "markdown",
   "metadata": {},
   "source": [
    "EXAMPLE 4"
   ]
  },
  {
   "cell_type": "markdown",
   "metadata": {},
   "source": [
    "x and y is the input and find which one is the greatest among two numbers?"
   ]
  },
  {
   "cell_type": "code",
   "execution_count": null,
   "metadata": {},
   "outputs": [],
   "source": []
  },
  {
   "cell_type": "code",
   "execution_count": 23,
   "metadata": {},
   "outputs": [
    {
     "name": "stdout",
     "output_type": "stream",
     "text": [
      "y is greater than x\n"
     ]
    }
   ],
   "source": [
    "x=39\n",
    "y=61\n",
    "if(x<y):\n",
    "    print(\"y is greater than x\")\n",
    "else:\n",
    "    print(\"x is greater than y\")\n"
   ]
  },
  {
   "cell_type": "markdown",
   "metadata": {},
   "source": [
    "EXAMPLE 5"
   ]
  },
  {
   "cell_type": "markdown",
   "metadata": {},
   "source": [
    "need two numbers are input if the two nubers are same then,thenoutput should be square of its number or if not the output must\n",
    "be multiplication of both number"
   ]
  },
  {
   "cell_type": "code",
   "execution_count": 25,
   "metadata": {},
   "outputs": [
    {
     "name": "stdout",
     "output_type": "stream",
     "text": [
      "if not equal then multiply x and y 324684\n"
     ]
    }
   ],
   "source": [
    "x=522\n",
    "y=622\n",
    "if(x==y):\n",
    "    print(\"they are equal then double\",x*x)\n",
    "else:\n",
    "    print(\"if not equal then multiply x and y\",x*y)"
   ]
  },
  {
   "cell_type": "markdown",
   "metadata": {},
   "source": [
    "EXAMPLE 6"
   ]
  },
  {
   "cell_type": "markdown",
   "metadata": {},
   "source": [
    "only number is the input and we looking for wheather the given input is zero,positive or negative number"
   ]
  },
  {
   "cell_type": "code",
   "execution_count": 28,
   "metadata": {},
   "outputs": [
    {
     "name": "stdout",
     "output_type": "stream",
     "text": [
      "its negative number\n"
     ]
    }
   ],
   "source": [
    "x=-10\n",
    "if(x<0):\n",
    "    print(\"its negative number\")\n",
    "elif(x>0):\n",
    "    print(\"its postive number\")\n",
    "elif(x==0):\n",
    "    print(\"its zero\")\n"
   ]
  },
  {
   "cell_type": "markdown",
   "metadata": {},
   "source": [
    "EXAMPLE 7"
   ]
  },
  {
   "cell_type": "code",
   "execution_count": 1,
   "metadata": {},
   "outputs": [
    {
     "name": "stdout",
     "output_type": "stream",
     "text": [
      "1\n",
      "2\n",
      "3\n",
      "4\n",
      "5\n",
      "6\n",
      "7\n",
      "8\n",
      "9\n",
      "10\n"
     ]
    }
   ],
   "source": [
    "n=1\n",
    "while(n<=10):\n",
    "    print(n);\n",
    "    n=n+1"
   ]
  },
  {
   "cell_type": "markdown",
   "metadata": {},
   "source": [
    "EXAMPLE 8"
   ]
  },
  {
   "cell_type": "markdown",
   "metadata": {},
   "source": [
    "PRINT THE NUMBERS FROM 10 TO 1\n"
   ]
  },
  {
   "cell_type": "code",
   "execution_count": 8,
   "metadata": {},
   "outputs": [
    {
     "name": "stdout",
     "output_type": "stream",
     "text": [
      "1\n",
      "2\n",
      "3\n",
      "4\n",
      "5\n",
      "6\n",
      "7\n",
      "8\n",
      "9\n"
     ]
    }
   ],
   "source": [
    "n=1\n",
    "while(n<10):\n",
    "    print(n)\n",
    "    n=n+1;\n",
    "    "
   ]
  },
  {
   "cell_type": "code",
   "execution_count": 7,
   "metadata": {},
   "outputs": [
    {
     "name": "stdout",
     "output_type": "stream",
     "text": [
      "22\n",
      "23\n",
      "24\n",
      "25\n",
      "26\n",
      "27\n",
      "28\n",
      "29\n",
      "30\n",
      "31\n",
      "32\n",
      "33\n",
      "34\n",
      "35\n",
      "36\n",
      "37\n",
      "38\n",
      "39\n",
      "40\n",
      "41\n",
      "42\n",
      "43\n",
      "44\n"
     ]
    }
   ],
   "source": [
    "n=22\n",
    "while(n<45):\n",
    "    print(n)\n",
    "    n=n+1;"
   ]
  },
  {
   "cell_type": "markdown",
   "metadata": {},
   "source": [
    "EXAMPLE 10"
   ]
  },
  {
   "cell_type": "markdown",
   "metadata": {},
   "source": [
    "PRINT THE SUM OF EVEN NUMBERS FROM 1 TO 100 "
   ]
  },
  {
   "cell_type": "code",
   "execution_count": 13,
   "metadata": {
    "scrolled": true
   },
   "outputs": [
    {
     "name": "stdout",
     "output_type": "stream",
     "text": [
      "enter lower limit1\n",
      "enter upper limit20\n",
      "110\n"
     ]
    }
   ],
   "source": [
    "x=int(input(\"enter lower limit\"));\n",
    "y=int(input(\"enter upper limit\"));\n",
    "sum=0\n",
    "while(x<=y):\n",
    "    if(x%2==0):\n",
    "        sum=sum+x\n",
    "    x=x+1;\n",
    "print(sum);"
   ]
  },
  {
   "cell_type": "markdown",
   "metadata": {},
   "source": [
    "EXAMPLE 11\n"
   ]
  },
  {
   "cell_type": "code",
   "execution_count": 19,
   "metadata": {},
   "outputs": [
    {
     "name": "stdout",
     "output_type": "stream",
     "text": [
      "19\n"
     ]
    }
   ],
   "source": [
    "n=195\n",
    "N=18\n",
    "print('19')"
   ]
  },
  {
   "cell_type": "code",
   "execution_count": 4,
   "metadata": {},
   "outputs": [
    {
     "ename": "IndentationError",
     "evalue": "unindent does not match any outer indentation level (<tokenize>, line 13)",
     "output_type": "error",
     "traceback": [
      "\u001b[1;36m  File \u001b[1;32m\"<tokenize>\"\u001b[1;36m, line \u001b[1;32m13\u001b[0m\n\u001b[1;33m    print(\"four\")\u001b[0m\n\u001b[1;37m    ^\u001b[0m\n\u001b[1;31mIndentationError\u001b[0m\u001b[1;31m:\u001b[0m unindent does not match any outer indentation level\n"
     ]
    }
   ],
   "source": [
    "x=int(int(\"enter a number\"))\n",
    "while(x!=0):\n",
    "    r=x%10;\n",
    "    if(r=0);\n",
    "     print(\"zero\")\n",
    "     elif(r=1)\n",
    "      print(\"one\")\n",
    "      elif(r==2)\n",
    "      print(\"two\")\n",
    "       elif(r=3)\n",
    "      print(\"three\")\n",
    "         elif(r=4)\n",
    "        print(\"four\")\n",
    "        print(r)"
   ]
  },
  {
   "cell_type": "markdown",
   "metadata": {},
   "source": [
    "# EXAMPLE\n",
    "\n"
   ]
  },
  {
   "cell_type": "code",
   "execution_count": 19,
   "metadata": {},
   "outputs": [
    {
     "name": "stdout",
     "output_type": "stream",
     "text": [
      "120\n",
      "3628800\n",
      "2432902008176640000\n"
     ]
    }
   ],
   "source": [
    "def findfact(n):\n",
    "    fact=1;\n",
    "    while(n!=0):\n",
    "     fact=fact*n;\n",
    "     n=n-1;\n",
    "    return fact;\n",
    "print(findfact(5));\n",
    "print(findfact(10));\n",
    "print(findfact(20));\n",
    "    \n"
   ]
  },
  {
   "cell_type": "markdown",
   "metadata": {},
   "source": [
    "\n",
    "program to find the count of palindrome between two limits"
   ]
  },
  {
   "cell_type": "code",
   "execution_count": null,
   "metadata": {},
   "outputs": [],
   "source": [
    "def count of palindrome(n1,n2)\n",
    "cnt=0"
   ]
  },
  {
   "cell_type": "code",
   "execution_count": null,
   "metadata": {},
   "outputs": [],
   "source": []
  }
 ],
 "metadata": {
  "kernelspec": {
   "display_name": "Python 3",
   "language": "python",
   "name": "python3"
  },
  "language_info": {
   "codemirror_mode": {
    "name": "ipython",
    "version": 3
   },
   "file_extension": ".py",
   "mimetype": "text/x-python",
   "name": "python",
   "nbconvert_exporter": "python",
   "pygments_lexer": "ipython3",
   "version": "3.7.3"
  }
 },
 "nbformat": 4,
 "nbformat_minor": 2
}
