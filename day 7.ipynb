{
 "cells": [
  {
   "cell_type": "markdown",
   "metadata": {},
   "source": [
    "EXAMPLE 1"
   ]
  },
  {
   "cell_type": "code",
   "execution_count": 3,
   "metadata": {},
   "outputs": [
    {
     "data": {
      "text/plain": [
       "90"
      ]
     },
     "execution_count": 3,
     "metadata": {},
     "output_type": "execute_result"
    }
   ],
   "source": [
    "def printeven(n):\n",
    "    cnt=0;\n",
    "    sum=0;\n",
    "    while(cnt!=n):\n",
    "        if(cnt%2==0):\n",
    "            sum=sum+cnt\n",
    "        cnt=cnt+1;\n",
    "    return sum\n",
    "printeven(20)"
   ]
  },
  {
   "cell_type": "markdown",
   "metadata": {},
   "source": [
    "EXAMPLE"
   ]
  },
  {
   "cell_type": "code",
   "execution_count": null,
   "metadata": {},
   "outputs": [
    {
     "name": "stdout",
     "output_type": "stream",
     "text": [
      "1234"
     ]
    }
   ],
   "source": [
    "def factoriallist(n):\n",
    "    i=1;\n",
    "    while(i!=n):\n",
    "      if(n%i==0):\n",
    "         print(i,end=\"\");\n",
    "         i=i+1;\n",
    "    return;\n",
    "factoriallist(12);"
   ]
  },
  {
   "cell_type": "code",
   "execution_count": 43,
   "metadata": {},
   "outputs": [
    {
     "name": "stdout",
     "output_type": "stream",
     "text": [
      "[1, 2, 3, 4, 5]\n",
      "1\n"
     ]
    }
   ],
   "source": [
    "list1 =[1,2,3,4,5];\n",
    "#entire list\n",
    "print(list1)\n",
    "# list[6]\n",
    "\n",
    "print (list1[0])"
   ]
  },
  {
   "cell_type": "code",
   "execution_count": 39,
   "metadata": {},
   "outputs": [
    {
     "name": "stdout",
     "output_type": "stream",
     "text": [
      "nikki kanni akki netflix "
     ]
    }
   ],
   "source": [
    "list2= [\"nikki\",\"kanni\",\"akki\",\"netflix\"]\n",
    "for x in list2:\n",
    "    print(x,end=\" \");\n",
    "    "
   ]
  },
  {
   "cell_type": "markdown",
   "metadata": {},
   "source": [
    "# list example with particular index "
   ]
  },
  {
   "cell_type": "code",
   "execution_count": 26,
   "metadata": {},
   "outputs": [
    {
     "name": "stdout",
     "output_type": "stream",
     "text": [
      "1 2 3 4 5 6 7 \n",
      "5\n",
      "[4, 5, 6, 7]\n",
      "[1, 2, 3]\n",
      "[1, 2, 3]\n",
      "[1, 2, 3, 4, 5, 6, 7]\n"
     ]
    }
   ],
   "source": [
    "lst1=[1,2,3,4,5,6,7]\n",
    "for x in lst1:\n",
    "    print(x,end=\" \")\n",
    "print();\n",
    "print(lst1[4]);\n",
    "print(lst1[3:7]);\n",
    "print(lst1[0:3]);\n",
    "print(lst1[:3]);\n",
    "print(lst1[:7]);"
   ]
  },
  {
   "cell_type": "code",
   "execution_count": 15,
   "metadata": {},
   "outputs": [
    {
     "name": "stdout",
     "output_type": "stream",
     "text": [
      "['nikki', 'nikki', 'nikki', 1]\n",
      "['nikki', 'nikki', 'nikki']\n",
      "['nikki', 'GITAM', 'nikki']\n",
      "[1, 2, 3]\n",
      "['nikki', 'GITAM', 'nikki', 1, 2, 3]\n"
     ]
    }
   ],
   "source": [
    "lst1=[\"nikki\",\"nikki\",\"nikki\",1];\n",
    "print(lst1);\n",
    "del lst1[3];#del the list item\n",
    "print (lst1);\n",
    "lst1[1]=\"GITAM\"\n",
    "print(lst1)\n",
    "lst2=[1,2,3];\n",
    "print(lst2)\n",
    "print (lst1+lst2); #concatingtion of both the list"
   ]
  },
  {
   "cell_type": "code",
   "execution_count": 16,
   "metadata": {},
   "outputs": [
    {
     "name": "stdout",
     "output_type": "stream",
     "text": [
      "['GITAM', 'Python', 'Raptor', 1, 5, 'Python', 'Python']\n",
      "7\n",
      "['GITAM', 'Python', 2019, 'Raptor', 1, 5, 'Python', 'Python']\n",
      "8\n",
      "['GITAM', 'Python', 2019, 'Raptor', 2020, 1, 5, 'Python', 'Python']\n",
      "9\n"
     ]
    }
   ],
   "source": [
    "list1= [\"GITAM\",\"Python\",\"Raptor\",1,5,\"Python\",\"Python\"]\n",
    "print(list1)\n",
    "list1.index(\"Python\")\n",
    "list1.index(1)\n",
    "print(len(list1))\n",
    "list1.insert(2,2019)\n",
    "print(list1)\n",
    "print(len(list1))\n",
    "list1.insert(4,2020)\n",
    "print(list1)\n",
    "print(len(list1))"
   ]
  },
  {
   "cell_type": "code",
   "execution_count": 17,
   "metadata": {},
   "outputs": [
    {
     "name": "stdout",
     "output_type": "stream",
     "text": [
      "1 2 3 4 5 6 7 \n",
      "5\n"
     ]
    }
   ],
   "source": [
    "list1 = [1,2,3,4,5,6,7]\n",
    "for x in list1:\n",
    "    print(x,end= \" \")\n",
    "\n",
    "print();\n",
    "print(list1[4]);"
   ]
  },
  {
   "cell_type": "code",
   "execution_count": 20,
   "metadata": {},
   "outputs": [
    {
     "name": "stdout",
     "output_type": "stream",
     "text": [
      "['GITAM', 'Python', 'Raptor', 1, 5, 'Python', 'Python']\n",
      "7\n",
      "['GITAM', 'Python', 2019, 'Raptor', 1, 5, 'Python', 'Python']\n",
      "8\n",
      "['GITAM', 'Python', 2019, 'Raptor', 2020, 1, 5, 'Python', 'Python']\n",
      "9\n",
      "['Python', 'Python', 5, 1, 2020, 'Raptor', 2019, 'Python', 'GITAM']\n"
     ]
    }
   ],
   "source": [
    "list1= [\"GITAM\",\"Python\",\"Raptor\",1,5,\"Python\",\"Python\"]\n",
    "print(list1)\n",
    "list1.index(\"Python\")\n",
    "list1.index(1)\n",
    "print(len(list1))\n",
    "list1.insert(2,2019)\n",
    "print(list1)\n",
    "print(len(list1))\n",
    "list1.insert(4,2020)\n",
    "print(list1)\n",
    "print(len(list1))\n",
    "\n",
    "list1.reverse()\n",
    "print(list1)"
   ]
  },
  {
   "cell_type": "code",
   "execution_count": 32,
   "metadata": {},
   "outputs": [
    {
     "name": "stdout",
     "output_type": "stream",
     "text": [
      "[52, 19, 14, 15]\n"
     ]
    }
   ],
   "source": [
    "x=39\n",
    "y=52\n",
    "z=19\n",
    "n=14\n",
    "m=15\n",
    "p=[x,y,z,n,m]\n",
    "p.pop(0)\n",
    "print(p)"
   ]
  },
  {
   "cell_type": "code",
   "execution_count": 34,
   "metadata": {},
   "outputs": [
    {
     "name": "stdout",
     "output_type": "stream",
     "text": [
      "1\n",
      "5\n"
     ]
    }
   ],
   "source": [
    "def linearSearch(a,tarItem):\n",
    "    z=0\n",
    "    for i in range(len(a)):\n",
    "        if(a[i]==tarItem):\n",
    "            print(z)\n",
    "        z=z+1\n",
    "            \n",
    "    \n",
    "\n",
    "        \n",
    "a=[16,2,12,6,9,2,1]\n",
    "linearSearch(a,2)"
   ]
  },
  {
   "cell_type": "code",
   "execution_count": 6,
   "metadata": {},
   "outputs": [
    {
     "name": "stdout",
     "output_type": "stream",
     "text": [
      "number not found\n"
     ]
    }
   ],
   "source": [
    "def linearSearch(a,tarItem):\n",
    "    z=0\n",
    "    b=0\n",
    "    for i in range(len(a)):\n",
    "        if(a[i]==tarItem):\n",
    "            print(z)\n",
    "        else:\n",
    "            b=b+1     \n",
    "        z=z+1\n",
    "    if (len(a)==b):\n",
    "        print(\"number not found\")\n",
    "a=[16,2,12,6,9,2,1]\n",
    "linearSearch(a,5)\n"
   ]
  },
  {
   "cell_type": "code",
   "execution_count": 7,
   "metadata": {},
   "outputs": [
    {
     "name": "stdout",
     "output_type": "stream",
     "text": [
      "1\n",
      "4\n",
      "7\n"
     ]
    }
   ],
   "source": [
    "def linearSearch(a,tarItem):\n",
    "    z=0\n",
    "    b=0\n",
    "    for i in range(len(a)):\n",
    "        if(a[i]==tarItem):\n",
    "            print(z)\n",
    "        else:\n",
    "            b=b+1     \n",
    "        z=z+1\n",
    "    if (len(a)==b):\n",
    "        print(\"number not found\")\n",
    "a=[1,5,9,6,5,15,12,5]\n",
    "linearSearch(a,5)"
   ]
  },
  {
   "cell_type": "code",
   "execution_count": null,
   "metadata": {},
   "outputs": [],
   "source": [
    "def linearexample3(a):\n",
    "    sum=0;\n",
    "    for i in range (len(a)):\n",
    "        if a[i]%3"
   ]
  },
  {
   "cell_type": "code",
   "execution_count": 29,
   "metadata": {},
   "outputs": [
    {
     "name": "stdout",
     "output_type": "stream",
     "text": [
      "1\n",
      "3\n",
      "8\n",
      "15\n",
      "5\n"
     ]
    }
   ],
   "source": [
    "def linearSearch(a):\n",
    "    for i in range(len(a)):\n",
    "        if (i==0 or i==len(a)-1):\n",
    "            print(a[i])\n",
    "        else:\n",
    "            c=a[i-1]*a[i+1]\n",
    "            print(c)\n",
    "    \n",
    "a=[1,2,3,4,5]\n",
    "linearSearch(a)"
   ]
  },
  {
   "cell_type": "code",
   "execution_count": 34,
   "metadata": {},
   "outputs": [
    {
     "name": "stdout",
     "output_type": "stream",
     "text": [
      "enter10\n",
      "[1, 0]\n"
     ]
    }
   ],
   "source": [
    "def numbertolistconversion(n):\n",
    "    lst = []\n",
    "    while n!=0:\n",
    "        lst.append(n%10)\n",
    "        n=n//10\n",
    "    lst.reverse()\n",
    "    print(lst)    \n",
    "        \n",
    "\n",
    "n=int(input(\"enter\"))\n",
    "numbertolistconversion(n)\n",
    "    \n",
    "        "
   ]
  },
  {
   "cell_type": "code",
   "execution_count": 30,
   "metadata": {},
   "outputs": [
    {
     "name": "stdout",
     "output_type": "stream",
     "text": [
      "1 9 19 22 "
     ]
    }
   ],
   "source": [
    "def linearFormated3(a):\n",
    "    for i in range(len(a)):\n",
    "        if(i==0 or i==len(a)-1):\n",
    "            print(a[i],end =\" \");\n",
    "        elif (a[i-1]%2==0 and a[i+1]%2==0):\n",
    "            print(a[i],end = \" \")\n",
    "        \n",
    "\n",
    "a=[1,6,9,4,16,19,22]\n",
    "linearFormated3(a)"
   ]
  },
  {
   "cell_type": "code",
   "execution_count": 18,
   "metadata": {},
   "outputs": [
    {
     "ename": "SyntaxError",
     "evalue": "invalid syntax (<ipython-input-18-f2e0268e3f32>, line 7)",
     "output_type": "error",
     "traceback": [
      "\u001b[1;36m  File \u001b[1;32m\"<ipython-input-18-f2e0268e3f32>\"\u001b[1;36m, line \u001b[1;32m7\u001b[0m\n\u001b[1;33m    listtonumberconversion(n):\u001b[0m\n\u001b[1;37m                              ^\u001b[0m\n\u001b[1;31mSyntaxError\u001b[0m\u001b[1;31m:\u001b[0m invalid syntax\n"
     ]
    }
   ],
   "source": [
    "def listtonumberconversion(n):\n",
    "    sum=0\n",
    "    for i in range(len(a)):\n",
    "     sum=sum*10+list1[i]\n",
    "    a=[1,4,5,6,9]\n",
    "    print(a)\n",
    "listtonumberconversion(n):\n",
    "    \n",
    "\n",
    "\n",
    "\n",
    "    "
   ]
  },
  {
   "cell_type": "code",
   "execution_count": null,
   "metadata": {},
   "outputs": [],
   "source": []
  },
  {
   "cell_type": "code",
   "execution_count": null,
   "metadata": {},
   "outputs": [],
   "source": []
  }
 ],
 "metadata": {
  "kernelspec": {
   "display_name": "Python 3",
   "language": "python",
   "name": "python3"
  },
  "language_info": {
   "codemirror_mode": {
    "name": "ipython",
    "version": 3
   },
   "file_extension": ".py",
   "mimetype": "text/x-python",
   "name": "python",
   "nbconvert_exporter": "python",
   "pygments_lexer": "ipython3",
   "version": "3.7.3"
  }
 },
 "nbformat": 4,
 "nbformat_minor": 2
}
